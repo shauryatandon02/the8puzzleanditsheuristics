{
  "cells": [
    {
      "cell_type": "markdown",
      "source": [
        "### Problem Statement\n",
        "\n",
        "We gave two simple heuristics for the 8-puzzle: Manhattan distance and misplaced tiles. Several heuristics in the literature purport to improve on this-see, for example, Nilsson:1971, Mostow+Prieditis:1989, and Hansson+al:1992. Test these claims by implementing the heuristics and comparing the performance of the resulting algorithms."
      ],
      "metadata": {
        "id": "KdVhEUndocfB"
      }
    },
    {
      "cell_type": "markdown",
      "source": [
        "# The Puzzle"
      ],
      "metadata": {
        "id": "U9eP4WZrQc_e"
      }
    },
    {
      "cell_type": "code",
      "execution_count": null,
      "metadata": {
        "id": "H7RBaSpUB_5b"
      },
      "outputs": [],
      "source": [
        "from __future__ import annotations\n",
        "from datetime import datetime"
      ]
    },
    {
      "cell_type": "code",
      "execution_count": null,
      "metadata": {
        "id": "MRFfsAz0sZQS"
      },
      "outputs": [],
      "source": [
        "# A class to define the node object\n",
        "class Node:\n",
        "    def __init__(self,parent,data,level,fval):\n",
        "        self.data = data\n",
        "        self.level = level\n",
        "        self.fval = fval\n",
        "        self.parent = parent\n",
        "\n",
        "    # Generate child nodes by moving the blank space\n",
        "    # in one of the four directions\n",
        "    def generate_child(self,parent:Node):\n",
        "        x,y = self.find(self.data,'_')\n",
        "        # val_list contains position values for the blank space to move to \n",
        "        val_list = [[x,y-1],[x,y+1],[x-1,y],[x+1,y]]\n",
        "        children = []\n",
        "        for i in val_list:\n",
        "            child = self.shuffle(self.data,x,y,i[0],i[1])\n",
        "            if child is not None:\n",
        "                child_node = Node(parent,child,self.level+1,0)\n",
        "                children.append(child_node)\n",
        "        return children\n",
        "    \n",
        "    # To move the position of the blank\n",
        "    def shuffle(self,puz,x1,y1,x2,y2):\n",
        "        if x2 >= 0 and x2 < len(self.data) and y2 >= 0 and y2 < len(self.data):\n",
        "            temp_puz = []\n",
        "            temp_puz = self.copy(puz)\n",
        "            temp = temp_puz[x2][y2]\n",
        "            temp_puz[x2][y2] = temp_puz[x1][y1]\n",
        "            temp_puz[x1][y1] = temp\n",
        "            return temp_puz\n",
        "        else:\n",
        "            return None\n",
        "\n",
        "    def copy(self,root):\n",
        "        temp = []\n",
        "        for i in root:\n",
        "            t = []\n",
        "            for j in i:\n",
        "                t.append(j)\n",
        "            temp.append(t)\n",
        "        return temp    \n",
        "    \n",
        "    # To find the blank space\n",
        "    def find(self,puz,x):\n",
        "        for i in range(0,len(self.data)):\n",
        "            for j in range(0,len(self.data)):\n",
        "                if puz[i][j] == x:\n",
        "                    return i,j"
      ]
    },
    {
      "cell_type": "code",
      "execution_count": null,
      "metadata": {
        "id": "y6L19Ytascxp"
      },
      "outputs": [],
      "source": [
        "class Puzzle:\n",
        "    # Initialize with size (3 as in 3X3 for 8 puzzle), open and closed list (for node handling),\n",
        "    # and heuristic to be used\n",
        "    def __init__(self,size,heuristic):\n",
        "        self.n = size\n",
        "        self.open = []\n",
        "        self.closed = []\n",
        "        self.heuristic = heuristic\n",
        "\n",
        "    # To accept the start state\n",
        "    # Click enter after each row, hit space between elements\n",
        "    def accept(self):\n",
        "        puz = []\n",
        "        for i in range(0,self.n):\n",
        "            temp = input().split(\" \")\n",
        "            puz.append(temp)\n",
        "        return puz\n",
        "\n",
        "    # Function to return the fvalue for each state\n",
        "    def f(self,start,goal):\n",
        "        if self.heuristic == \"Misplaced Tiles\":\n",
        "            return self.MisplacedTiles(start.data,goal)+start.level\n",
        "        elif self.heuristic == \"Manhattan Distance\":\n",
        "            return self.ManhattanDist(start.data,goal)+start.level\n",
        "        elif self.heuristic == \"Nilsson Sequence\":\n",
        "            return self.Nilsson(start.data,goal)+start.level\n",
        "        elif self.heuristic == \"Out Of Row and Column\":\n",
        "            return self.OutOfRowColumn(start.data,goal)+start.level\n",
        "        elif self.heuristic == \"Linear Conflicts\":\n",
        "            return self.LinearConflicts(start.data,goal)+start.level\n",
        "\n",
        "    # The Misplaced Tiles heuristic\n",
        "    def MisplacedTiles(self,mat,goal):\n",
        "        count = 0\n",
        "        for i in range(0,self.n):\n",
        "            for j in range(0,self.n):\n",
        "                if mat[i][j] != goal[i][j] and mat[i][j] != '_':\n",
        "                    count += 1\n",
        "        return count\n",
        "    \n",
        "    # The Manhattan Distance heuristic\n",
        "    def ManhattanDist(self,start,goal):\n",
        "        dist = 0\n",
        "        for i in range(0,self.n):\n",
        "            for j in range(0,self.n):\n",
        "                 k,l = self.searchTile(goal, start[i][j])\n",
        "                 dist += abs(i-k) + abs(j-l)\n",
        "        return dist\n",
        "    \n",
        "    # A function that returns the location indices of an element\n",
        "    # in a given matrix\n",
        "    def searchTile(self,mat,t):\n",
        "        for i in range(0,self.n):\n",
        "            for j in range(0,self.n):\n",
        "                if (mat[i][j] == t):\n",
        "                    return i,j\n",
        "\n",
        "    # The Nilsson Sequence heuristic\n",
        "    def Nilsson(self,mat,goal):\n",
        "        # Returns a list of all clockwise pairs in a given state\n",
        "        def ClockwiseNeighbours(mat):\n",
        "            tlist = []\n",
        "            for i in range(0,self.n-1):\n",
        "                t = []\n",
        "                t.append(mat[0][i])\n",
        "                t.append(mat[0][i+1])\n",
        "                tlist.append(t)\n",
        "            for i in range(0,self.n-1):\n",
        "                t = []\n",
        "                t.append(mat[i][2])\n",
        "                t.append(mat[i+1][2])\n",
        "                tlist.append(t)\n",
        "            for i in reversed(range(1,self.n)):\n",
        "                t = []\n",
        "                t.append(mat[2][i])\n",
        "                t.append(mat[2][i-1])\n",
        "                tlist.append(t)\n",
        "            for i in reversed(range(1,self.n)):\n",
        "                t = []\n",
        "                t.append(mat[i][0])\n",
        "                t.append(mat[i-1][0])\n",
        "                tlist.append(t)\n",
        "            return tlist\n",
        "        \n",
        "        goal_list = ClockwiseNeighbours(goal)\n",
        "        start_list = ClockwiseNeighbours(mat)\n",
        "        count = 0\n",
        "        # Counting the number of pairs in the current list \n",
        "        # that are not in the goal list\n",
        "        for i in start_list:\n",
        "          if i not in goal_list:\n",
        "            count += 1\n",
        "        return count + self.ManhattanDist(mat,goal)\n",
        "    \n",
        "    # The Out of Row and Out of Column heuristic obtained from ABSOLVER\n",
        "    def OutOfRowColumn(self, mat, goal):\n",
        "        count = 0\n",
        "        for i in range(self.n):\n",
        "            for j in range(self.n):\n",
        "                k,l = self.searchTile(goal, mat[i][j])\n",
        "                if(i!=k):\n",
        "                    count += 1\n",
        "                if(j!=l):\n",
        "                    count +=1\n",
        "        return count\n",
        "    \n",
        "    # The Linear Conflicts heuristic\n",
        "    def LinearConflicts(self, mat, goal):\n",
        "        # A function that returns the number of tiles that must be removed to\n",
        "        # resolve linear conflicts\n",
        "        def TilesToRemoveConflicts(mat_row, goal_row, ans=0):\n",
        "            counts = [0 for x in range(self.n)]\n",
        "            for i, t1 in enumerate(mat_row):\n",
        "                if t1 in goal_row and t1 != '_':\n",
        "                    goal_i = goal_row.index(t1)\n",
        "                    for j, t2 in enumerate(mat_row):\n",
        "                        if t2 in goal_row and t2 != '_' and i != j:\n",
        "                            goal_j = goal_row.index(t2)\n",
        "                            if goal_i > goal_j and i < j:\n",
        "                                counts[i] += 1\n",
        "                            if goal_i < goal_j and i > j:\n",
        "                                counts[i] += 1\n",
        "            if max(counts) == 0:\n",
        "                return ans\n",
        "            else:\n",
        "                i = counts.index(max(counts))\n",
        "                mat_row[i] = -1\n",
        "                ans += 1\n",
        "                return TilesToRemoveConflicts(mat_row, goal_row, ans)\n",
        "\n",
        "        cost = self.ManhattanDist(mat, goal)\n",
        "        # Preparing all rows and columns in the current state\n",
        "        mat_rows = []\n",
        "        mat_columns = [[] for x in range(self.n)]\n",
        "        goal_rows = []\n",
        "        goal_columns = [[] for x in range(self.n)]\n",
        "        for i in mat:\n",
        "            mat_rows.append(i)\n",
        "        for i in goal:\n",
        "            goal_rows.append(i)\n",
        "        for j in range(self.n):\n",
        "            for i in range(self.n):\n",
        "                mat_columns[i].append(mat[i][j])\n",
        "                goal_columns[i].append(goal[i][j])\n",
        "        # Adding the minimum moves to resolve linear conflicts to the Manhattan Distance\n",
        "        for i in range(self.n):\n",
        "            cost += 2*TilesToRemoveConflicts(mat_rows[i], goal_rows[i])\n",
        "        for i in range(self.n):\n",
        "            cost += 2*TilesToRemoveConflicts(mat_columns[i], goal_columns[i])\n",
        "        return cost\n",
        "    \n",
        "    def printMatrix(self,data):\n",
        "        for i in range(0,self.n):  \n",
        "            for j in range(0,self.n):  \n",
        "                print(data[i][j],end=\" \")\n",
        "            print()\n",
        "    \n",
        "    def printPath(self,root):  \n",
        "      if root == None:  \n",
        "        return  \n",
        "      self.printPath(root.parent)  \n",
        "      self.printMatrix(root.data)  \n",
        "      print()\n",
        "\n",
        "    # The function that executes the puzzle\n",
        "    def process(self):\n",
        "        #Accepting the start and goal\n",
        "        print(\"Enter the start state matrix \\n\")\n",
        "        start = self.accept()\n",
        "        print(\"Enter the goal state matrix \\n\")        \n",
        "        goal = self.accept()\n",
        "\n",
        "        # Using datetime to measure the time taken\n",
        "        start_time = datetime.now()\n",
        "        start = Node(None,start,0,0)\n",
        "        start.fval = self.f(start,goal)\n",
        "        # The start node goes in the open list\n",
        "        self.open.append(start)\n",
        "        print(\"\\n\\n\")\n",
        "        cur = self.open[0]\n",
        "        nodes_explored = 0\n",
        "        while True:\n",
        "            cur = self.open[0]\n",
        "            nodes_explored += 1\n",
        "            #Checking if the current state and the goal state have all the elemnts on the same tiles\n",
        "            #Can use any heuristic to check if all tiles are in place\n",
        "            if(self.MisplacedTiles(cur.data,goal) == 0): \n",
        "                break\n",
        "            for i in cur.generate_child(cur):\n",
        "                i.fval = self.f(i,goal)\n",
        "                self.open.append(i)\n",
        "            self.closed.append(cur)\n",
        "            del self.open[0]\n",
        "            # Sorting the open list by the fvalue\n",
        "            self.open.sort(key = lambda x:x.fval,reverse=False)\n",
        "        self.printPath(cur)\n",
        "        print(\"\")\n",
        "        print(f\"Completed in: {datetime.now() - start_time}\")\n",
        "        print(f\"Nodes Explored: {nodes_explored}\")"
      ]
    },
    {
      "cell_type": "markdown",
      "source": [
        "In the code above, we use a standard A* search as it is optimal and guarantees to find us the shortest path if one exists. Using a greedy search, the algorithm was getting stuck in loops which is intuitive as ordering in this case was only done based on the heuristic cost which can be the same for more than one value. Hence A* is the best choice here. "
      ],
      "metadata": {
        "id": "YgoT9rWSJTNr"
      }
    },
    {
      "cell_type": "markdown",
      "source": [
        "We define 5 heuristic functions:\n",
        "*   Misplaced Tiles\n",
        "*   Manhattan Distance\n",
        "*   Nilsson's Sequence\n",
        "*   Out of Row and Out of Column\n",
        "*   Linear Conflicts\n",
        "\n",
        "Choosing an appropriate test sample (which explores enough states), all the 5 heuristics were tested and the time taken to reach the goal state along with the nodes explored was noted. The results for each heuristic can be found below.\n",
        "\n"
      ],
      "metadata": {
        "id": "PsVB6nOhJT0I"
      }
    },
    {
      "cell_type": "markdown",
      "source": [
        "The sample used is:\n",
        "\n",
        "Start: [ [ 8 1 3 ] , [ 4 _ 2 ] , [ 7 6 5 ] ]\n",
        "\n",
        "Goal: [ [ 1 2 3 ] , [ 4 5 6 ] , [ 7 8 _ ] ]\n"
      ],
      "metadata": {
        "id": "tEewijHuQYai"
      }
    },
    {
      "cell_type": "markdown",
      "source": [
        "More samples can be used and their results can be recorded to do a more comprehensive study. For our purpose, the above sample gives a fair idea of what we can expect."
      ],
      "metadata": {
        "id": "LPrvxxRWJ4bD"
      }
    },
    {
      "cell_type": "markdown",
      "source": [
        "# Misplaced Tiles"
      ],
      "metadata": {
        "id": "GZMdR_1QQkzJ"
      }
    },
    {
      "cell_type": "markdown",
      "source": [
        "This heuristic counts the number of tiles that are not in position in any given state. This heuristic is admissible as each tile that is out of place must be moved at least once to reach the goal state."
      ],
      "metadata": {
        "id": "Xb1olzNlAkBn"
      }
    },
    {
      "cell_type": "code",
      "execution_count": null,
      "metadata": {
        "colab": {
          "base_uri": "https://localhost:8080/"
        },
        "id": "myUiVhS0KhK2",
        "outputId": "4c748c6d-5df2-4233-db41-ceff0207c8be"
      },
      "outputs": [
        {
          "output_type": "stream",
          "name": "stdout",
          "text": [
            "Enter the start state matrix \n",
            "\n",
            "8 1 3\n",
            "4 _ 2\n",
            "7 6 5\n",
            "Enter the goal state matrix \n",
            "\n",
            "1 2 3\n",
            "4 5 6\n",
            "7 8 _\n",
            "\n",
            "\n",
            "\n",
            "8 1 3 \n",
            "4 _ 2 \n",
            "7 6 5 \n",
            "\n",
            "8 1 3 \n",
            "4 2 _ \n",
            "7 6 5 \n",
            "\n",
            "8 1 3 \n",
            "4 2 5 \n",
            "7 6 _ \n",
            "\n",
            "8 1 3 \n",
            "4 2 5 \n",
            "7 _ 6 \n",
            "\n",
            "8 1 3 \n",
            "4 2 5 \n",
            "_ 7 6 \n",
            "\n",
            "8 1 3 \n",
            "_ 2 5 \n",
            "4 7 6 \n",
            "\n",
            "_ 1 3 \n",
            "8 2 5 \n",
            "4 7 6 \n",
            "\n",
            "1 _ 3 \n",
            "8 2 5 \n",
            "4 7 6 \n",
            "\n",
            "1 2 3 \n",
            "8 _ 5 \n",
            "4 7 6 \n",
            "\n",
            "1 2 3 \n",
            "_ 8 5 \n",
            "4 7 6 \n",
            "\n",
            "1 2 3 \n",
            "4 8 5 \n",
            "_ 7 6 \n",
            "\n",
            "1 2 3 \n",
            "4 8 5 \n",
            "7 _ 6 \n",
            "\n",
            "1 2 3 \n",
            "4 _ 5 \n",
            "7 8 6 \n",
            "\n",
            "1 2 3 \n",
            "4 5 _ \n",
            "7 8 6 \n",
            "\n",
            "1 2 3 \n",
            "4 5 6 \n",
            "7 8 _ \n",
            "\n",
            "\n",
            "Completed in: 0:01:00.810333\n",
            "Nodes Explored: 19353\n"
          ]
        }
      ],
      "source": [
        "puz = Puzzle(3, \"Misplaced Tiles\")\n",
        "puz.process()"
      ]
    },
    {
      "cell_type": "markdown",
      "source": [
        "Time Taken :  >= 1 min\n",
        "\n",
        "Nodes Explored :  19353"
      ],
      "metadata": {
        "id": "dVdyD5wIJUz7"
      }
    },
    {
      "cell_type": "markdown",
      "source": [
        "# Manhattan Distance"
      ],
      "metadata": {
        "id": "9BYjM_xdQoa8"
      }
    },
    {
      "cell_type": "markdown",
      "source": [
        "This is one of the most commonly used heuristics for the 8 Puzzle problem. It sums the absolute distances (in each component x and y) of a tile from its goal state."
      ],
      "metadata": {
        "id": "6bbT_ukxBep4"
      }
    },
    {
      "cell_type": "code",
      "source": [
        "puz = Puzzle(3, \"Manhattan Distance\")\n",
        "puz.process()"
      ],
      "metadata": {
        "colab": {
          "base_uri": "https://localhost:8080/"
        },
        "id": "fk4mZmzSaCCu",
        "outputId": "180871e6-8f9a-4cd9-ec91-541bf82ba48e"
      },
      "execution_count": null,
      "outputs": [
        {
          "output_type": "stream",
          "name": "stdout",
          "text": [
            "Enter the start state matrix \n",
            "\n",
            "8 1 3\n",
            "4 _ 2\n",
            "7 6 5\n",
            "Enter the goal state matrix \n",
            "\n",
            "1 2 3\n",
            "4 5 6\n",
            "7 8 _\n",
            "\n",
            "\n",
            "\n",
            "8 1 3 \n",
            "4 _ 2 \n",
            "7 6 5 \n",
            "\n",
            "8 1 3 \n",
            "4 2 _ \n",
            "7 6 5 \n",
            "\n",
            "8 1 3 \n",
            "4 2 5 \n",
            "7 6 _ \n",
            "\n",
            "8 1 3 \n",
            "4 2 5 \n",
            "7 _ 6 \n",
            "\n",
            "8 1 3 \n",
            "4 2 5 \n",
            "_ 7 6 \n",
            "\n",
            "8 1 3 \n",
            "_ 2 5 \n",
            "4 7 6 \n",
            "\n",
            "_ 1 3 \n",
            "8 2 5 \n",
            "4 7 6 \n",
            "\n",
            "1 _ 3 \n",
            "8 2 5 \n",
            "4 7 6 \n",
            "\n",
            "1 2 3 \n",
            "8 _ 5 \n",
            "4 7 6 \n",
            "\n",
            "1 2 3 \n",
            "_ 8 5 \n",
            "4 7 6 \n",
            "\n",
            "1 2 3 \n",
            "4 8 5 \n",
            "_ 7 6 \n",
            "\n",
            "1 2 3 \n",
            "4 8 5 \n",
            "7 _ 6 \n",
            "\n",
            "1 2 3 \n",
            "4 _ 5 \n",
            "7 8 6 \n",
            "\n",
            "1 2 3 \n",
            "4 5 _ \n",
            "7 8 6 \n",
            "\n",
            "1 2 3 \n",
            "4 5 6 \n",
            "7 8 _ \n",
            "\n",
            "\n",
            "Completed in: 0:00:01.004994\n",
            "Nodes Explored: 2355\n"
          ]
        }
      ]
    },
    {
      "cell_type": "markdown",
      "source": [
        "Time Taken :  ~ 1 sec\n",
        "\n",
        "Nodes Explored :  2355"
      ],
      "metadata": {
        "id": "_k0P8RqyYZEz"
      }
    },
    {
      "cell_type": "markdown",
      "source": [
        "# Nilsson's Sequence"
      ],
      "metadata": {
        "id": "FeG2h1lXQtMC"
      }
    },
    {
      "cell_type": "markdown",
      "source": [
        "The Nilsson's sequence evaluates the number of clockwise pairs (of tiles) that are in the current state but not in the goal state and uses this, summed with the Manhattan distance, as the heuristic. "
      ],
      "metadata": {
        "id": "n0BFFpBHCd9w"
      }
    },
    {
      "cell_type": "code",
      "source": [
        "puz = Puzzle(3, \"Nilsson Sequence\")\n",
        "puz.process()"
      ],
      "metadata": {
        "colab": {
          "base_uri": "https://localhost:8080/"
        },
        "id": "NtS2xeaJaDQ8",
        "outputId": "472fef1f-da61-4964-9a4d-e92331b42a78"
      },
      "execution_count": null,
      "outputs": [
        {
          "output_type": "stream",
          "name": "stdout",
          "text": [
            "Enter the start state matrix \n",
            "\n",
            "8 1 3\n",
            "4 _ 2\n",
            "7 6 5\n",
            "Enter the goal state matrix \n",
            "\n",
            "1 2 3\n",
            "4 5 6\n",
            "7 8 _\n",
            "\n",
            "\n",
            "\n",
            "8 1 3 \n",
            "4 _ 2 \n",
            "7 6 5 \n",
            "\n",
            "8 1 3 \n",
            "4 2 _ \n",
            "7 6 5 \n",
            "\n",
            "8 1 3 \n",
            "4 2 5 \n",
            "7 6 _ \n",
            "\n",
            "8 1 3 \n",
            "4 2 5 \n",
            "7 _ 6 \n",
            "\n",
            "8 1 3 \n",
            "4 2 5 \n",
            "_ 7 6 \n",
            "\n",
            "8 1 3 \n",
            "_ 2 5 \n",
            "4 7 6 \n",
            "\n",
            "_ 1 3 \n",
            "8 2 5 \n",
            "4 7 6 \n",
            "\n",
            "1 _ 3 \n",
            "8 2 5 \n",
            "4 7 6 \n",
            "\n",
            "1 2 3 \n",
            "8 _ 5 \n",
            "4 7 6 \n",
            "\n",
            "1 2 3 \n",
            "_ 8 5 \n",
            "4 7 6 \n",
            "\n",
            "1 2 3 \n",
            "4 8 5 \n",
            "_ 7 6 \n",
            "\n",
            "1 2 3 \n",
            "4 8 5 \n",
            "7 _ 6 \n",
            "\n",
            "1 2 3 \n",
            "4 _ 5 \n",
            "7 8 6 \n",
            "\n",
            "1 2 3 \n",
            "4 5 _ \n",
            "7 8 6 \n",
            "\n",
            "1 2 3 \n",
            "4 5 6 \n",
            "7 8 _ \n",
            "\n",
            "\n",
            "Completed in: 0:00:00.587424\n",
            "Nodes Explored: 2198\n"
          ]
        }
      ]
    },
    {
      "cell_type": "markdown",
      "source": [
        "Time Taken :  ~ 0.6 sec\n",
        "\n",
        "Nodes Explored :  2198"
      ],
      "metadata": {
        "id": "T0MyJ3JJYzFf"
      }
    },
    {
      "cell_type": "markdown",
      "source": [
        "# Out of Row and Out of Column "
      ],
      "metadata": {
        "id": "u4vE5-aZQ1Rz"
      }
    },
    {
      "cell_type": "markdown",
      "source": [
        "Here, we simply sum the number of elements that are not in the row they should be in in the goal state and the number of elements that are not in the column they should be in in the goal state. "
      ],
      "metadata": {
        "id": "_w_mx1c8DZGD"
      }
    },
    {
      "cell_type": "code",
      "source": [
        "puz = Puzzle(3, \"Out Of Row and Column\")\n",
        "puz.process()"
      ],
      "metadata": {
        "colab": {
          "base_uri": "https://localhost:8080/"
        },
        "id": "2AbupFYOaEBM",
        "outputId": "b8eb7818-c253-47ad-abc5-8abbce216da7"
      },
      "execution_count": null,
      "outputs": [
        {
          "output_type": "stream",
          "name": "stdout",
          "text": [
            "Enter the start state matrix \n",
            "\n",
            "8 1 3\n",
            "4 _ 2\n",
            "7 6 5\n",
            "Enter the goal state matrix \n",
            "\n",
            "1 2 3\n",
            "4 5 6\n",
            "7 8 _\n",
            "\n",
            "\n",
            "\n",
            "8 1 3 \n",
            "4 _ 2 \n",
            "7 6 5 \n",
            "\n",
            "8 1 3 \n",
            "4 2 _ \n",
            "7 6 5 \n",
            "\n",
            "8 1 3 \n",
            "4 2 5 \n",
            "7 6 _ \n",
            "\n",
            "8 1 3 \n",
            "4 2 5 \n",
            "7 _ 6 \n",
            "\n",
            "8 1 3 \n",
            "4 2 5 \n",
            "_ 7 6 \n",
            "\n",
            "8 1 3 \n",
            "_ 2 5 \n",
            "4 7 6 \n",
            "\n",
            "_ 1 3 \n",
            "8 2 5 \n",
            "4 7 6 \n",
            "\n",
            "1 _ 3 \n",
            "8 2 5 \n",
            "4 7 6 \n",
            "\n",
            "1 2 3 \n",
            "8 _ 5 \n",
            "4 7 6 \n",
            "\n",
            "1 2 3 \n",
            "_ 8 5 \n",
            "4 7 6 \n",
            "\n",
            "1 2 3 \n",
            "4 8 5 \n",
            "_ 7 6 \n",
            "\n",
            "1 2 3 \n",
            "4 8 5 \n",
            "7 _ 6 \n",
            "\n",
            "1 2 3 \n",
            "4 _ 5 \n",
            "7 8 6 \n",
            "\n",
            "1 2 3 \n",
            "4 5 _ \n",
            "7 8 6 \n",
            "\n",
            "1 2 3 \n",
            "4 5 6 \n",
            "7 8 _ \n",
            "\n",
            "\n",
            "Completed in: 0:00:00.847422\n",
            "Nodes Explored: 2805\n"
          ]
        }
      ]
    },
    {
      "cell_type": "markdown",
      "source": [
        "Time Taken :  ~ 0.8 sec\n",
        "\n",
        "Nodes Explored :  2805"
      ],
      "metadata": {
        "id": "Pqvzssc_ZUMn"
      }
    },
    {
      "cell_type": "markdown",
      "source": [
        "# Linear Conflicts"
      ],
      "metadata": {
        "id": "D4YaPXo6RGv8"
      }
    },
    {
      "cell_type": "markdown",
      "source": [
        "This heuristic centres around the concept of linear conflicts. 2 tiles tⱼ and tₖ are in linear conflict if tⱼ and tₖ are both in the same line, the goal positions of tⱼ and tₖ are both in that line, tⱼ is to the right of tₖ, and the goal position of tⱼ is to the left of the goal position of tₖ.\n",
        "\n",
        "For each row/column, we count the number of tiles that must be removed from that row/column to resolve all linear conflicts. Summing up the counts for all rows and columns, we multiply by 2 to get the minimum number of additional moves needed to resolve all the linear conflicts in that state. \n",
        "\n",
        "This is summed with the Manhattan Distance and used as a heuristic. "
      ],
      "metadata": {
        "id": "3V2yS5PxE8Rx"
      }
    },
    {
      "cell_type": "code",
      "source": [
        "puz = Puzzle(3, \"Linear Conflicts\")\n",
        "puz.process()"
      ],
      "metadata": {
        "colab": {
          "base_uri": "https://localhost:8080/"
        },
        "id": "RIxpFPnLaHbU",
        "outputId": "9d90d16d-a611-4e52-c807-c73a497374d6"
      },
      "execution_count": null,
      "outputs": [
        {
          "output_type": "stream",
          "name": "stdout",
          "text": [
            "Enter the start state matrix \n",
            "\n",
            "8 1 3\n",
            "4 _ 2\n",
            "7 6 5\n",
            "Enter the goal state matrix \n",
            "\n",
            "1 2 3\n",
            "4 5 6\n",
            "7 8 _\n",
            "\n",
            "\n",
            "\n",
            "8 1 3 \n",
            "4 _ 2 \n",
            "7 6 5 \n",
            "\n",
            "8 1 3 \n",
            "4 2 _ \n",
            "7 6 5 \n",
            "\n",
            "8 1 3 \n",
            "4 2 5 \n",
            "7 6 _ \n",
            "\n",
            "8 1 3 \n",
            "4 2 5 \n",
            "7 _ 6 \n",
            "\n",
            "8 1 3 \n",
            "4 2 5 \n",
            "_ 7 6 \n",
            "\n",
            "8 1 3 \n",
            "_ 2 5 \n",
            "4 7 6 \n",
            "\n",
            "_ 1 3 \n",
            "8 2 5 \n",
            "4 7 6 \n",
            "\n",
            "1 _ 3 \n",
            "8 2 5 \n",
            "4 7 6 \n",
            "\n",
            "1 2 3 \n",
            "8 _ 5 \n",
            "4 7 6 \n",
            "\n",
            "1 2 3 \n",
            "_ 8 5 \n",
            "4 7 6 \n",
            "\n",
            "1 2 3 \n",
            "4 8 5 \n",
            "_ 7 6 \n",
            "\n",
            "1 2 3 \n",
            "4 8 5 \n",
            "7 _ 6 \n",
            "\n",
            "1 2 3 \n",
            "4 _ 5 \n",
            "7 8 6 \n",
            "\n",
            "1 2 3 \n",
            "4 5 _ \n",
            "7 8 6 \n",
            "\n",
            "1 2 3 \n",
            "4 5 6 \n",
            "7 8 _ \n",
            "\n",
            "\n",
            "Completed in: 0:00:00.679177\n",
            "Nodes Explored: 2284\n"
          ]
        }
      ]
    },
    {
      "cell_type": "markdown",
      "source": [
        "Time Taken :  ~ 0.7 sec\n",
        "\n",
        "Nodes Explored :  2284"
      ],
      "metadata": {
        "id": "G3dLSnUvguEF"
      }
    },
    {
      "cell_type": "markdown",
      "source": [
        "# Conclusion"
      ],
      "metadata": {
        "id": "sHbil56SRTRp"
      }
    },
    {
      "cell_type": "markdown",
      "source": [
        "## Time Requirements of the Heuristics\n",
        "Time Taken (Misplaced Tiles) :  >= 1 min\n",
        "\n",
        "Time Taken (Manhattan Distance) :  ~ 1 sec\n",
        "\n",
        "Time Taken (Out of Row and Column) :  ~ 0.8 sec\n",
        "\n",
        "Time Taken (Linear Conflicts) : ~ 0.7 sec\n",
        "\n",
        "Time Taken (Nilsson's Sequence) :  ~ 0.6 sec"
      ],
      "metadata": {
        "id": "X1Tw32a7RXVu"
      }
    },
    {
      "cell_type": "markdown",
      "source": [
        "## Memory Requirements of the Heuristics\n",
        "\n",
        "Nodes Explored (Misplaced Tiles) :  19353\n",
        "\n",
        "Nodes Explored (Out of Row and Column) :  2805\n",
        "\n",
        "Nodes Explored (Manhattan Distance) :  2355\n",
        "\n",
        "Nodes Explored (Linear Conflicts) : 2284\n",
        "\n",
        "Nodes Explored (Nilsson's Sequence) :  2198"
      ],
      "metadata": {
        "id": "pBBiWUkQkWYs"
      }
    },
    {
      "cell_type": "markdown",
      "source": [
        "## Discussion\n",
        "\n",
        "As can be seen, the best possible heuristic for this case is the Nilsson's Sequence. It takes the least time to compute and explores lesser nodes to get to the solution. \n",
        "\n",
        "The Linear Conflicts heuristic lands a close second with the Nilsson's sequence heuristic being only slightly better. \n",
        "\n",
        "The Out of Row + Out of Column heuristic takes the lead over Manhattan Distance in terms of the time taken but ends up exploring much more nodes to reach the solution. In terms of nodes explored, Manhattan Distance is easily better having explored 450 nodes less than the former. \n",
        "\n",
        "The Misplaced Tile heuristic explored almost 9 times the number of nodes explored by Nilsson's Sequence and takes more than 1 minute to reach the goal. The other 4 heuristics discussed here clearly perform much better than Misplaced Tiles."
      ],
      "metadata": {
        "id": "dbdP7Lqjkg1J"
      }
    }
  ],
  "metadata": {
    "colab": {
      "provenance": [],
      "collapsed_sections": [
        "U9eP4WZrQc_e",
        "GZMdR_1QQkzJ",
        "9BYjM_xdQoa8",
        "FeG2h1lXQtMC",
        "u4vE5-aZQ1Rz",
        "D4YaPXo6RGv8",
        "sHbil56SRTRp"
      ]
    },
    "kernelspec": {
      "display_name": "Python 3",
      "name": "python3"
    },
    "language_info": {
      "name": "python"
    }
  },
  "nbformat": 4,
  "nbformat_minor": 0
}